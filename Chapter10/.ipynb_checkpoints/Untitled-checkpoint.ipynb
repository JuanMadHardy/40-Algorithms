{
 "cells": [
  {
   "cell_type": "code",
   "execution_count": 18,
   "metadata": {},
   "outputs": [],
   "source": [
    "import pandas as pd \n",
    "import numpy as np"
   ]
  },
  {
   "cell_type": "code",
   "execution_count": 19,
   "metadata": {},
   "outputs": [],
   "source": [
    "df_reviews = pd.read_csv('reviews.csv')\n",
    "df_movie_titles = pd.read_csv('movies.csv',index_col=False)"
   ]
  },
  {
   "cell_type": "code",
   "execution_count": 20,
   "metadata": {},
   "outputs": [],
   "source": [
    "df = pd.merge(df_reviews, df_movie_titles, on='movieId')"
   ]
  },
  {
   "cell_type": "code",
   "execution_count": 26,
   "metadata": {},
   "outputs": [
    {
     "data": {
      "text/html": [
       "<div>\n",
       "<style scoped>\n",
       "    .dataframe tbody tr th:only-of-type {\n",
       "        vertical-align: middle;\n",
       "    }\n",
       "\n",
       "    .dataframe tbody tr th {\n",
       "        vertical-align: top;\n",
       "    }\n",
       "\n",
       "    .dataframe thead th {\n",
       "        text-align: right;\n",
       "    }\n",
       "</style>\n",
       "<table border=\"1\" class=\"dataframe\">\n",
       "  <thead>\n",
       "    <tr style=\"text-align: right;\">\n",
       "      <th></th>\n",
       "      <th>rating</th>\n",
       "      <th>number_of_ratings</th>\n",
       "    </tr>\n",
       "    <tr>\n",
       "      <th>title</th>\n",
       "      <th></th>\n",
       "      <th></th>\n",
       "    </tr>\n",
       "  </thead>\n",
       "  <tbody>\n",
       "    <tr>\n",
       "      <th>'71 (2014)</th>\n",
       "      <td>4.0</td>\n",
       "      <td>1</td>\n",
       "    </tr>\n",
       "    <tr>\n",
       "      <th>'Hellboy': The Seeds of Creation (2004)</th>\n",
       "      <td>4.0</td>\n",
       "      <td>1</td>\n",
       "    </tr>\n",
       "    <tr>\n",
       "      <th>'Round Midnight (1986)</th>\n",
       "      <td>3.5</td>\n",
       "      <td>2</td>\n",
       "    </tr>\n",
       "    <tr>\n",
       "      <th>'Salem's Lot (2004)</th>\n",
       "      <td>5.0</td>\n",
       "      <td>1</td>\n",
       "    </tr>\n",
       "    <tr>\n",
       "      <th>'Til There Was You (1997)</th>\n",
       "      <td>4.0</td>\n",
       "      <td>2</td>\n",
       "    </tr>\n",
       "  </tbody>\n",
       "</table>\n",
       "</div>"
      ],
      "text/plain": [
       "                                         rating  number_of_ratings\n",
       "title                                                             \n",
       "'71 (2014)                                  4.0                  1\n",
       "'Hellboy': The Seeds of Creation (2004)     4.0                  1\n",
       "'Round Midnight (1986)                      3.5                  2\n",
       "'Salem's Lot (2004)                         5.0                  1\n",
       "'Til There Was You (1997)                   4.0                  2"
      ]
     },
     "execution_count": 26,
     "metadata": {},
     "output_type": "execute_result"
    }
   ],
   "source": [
    "df_ratings = pd.DataFrame(df.groupby('title')['rating'].mean())\n",
    "df_ratings['number_of_ratings'] = df.groupby('title')['rating'].count()\n",
    "df_ratings.head()"
   ]
  },
  {
   "cell_type": "code",
   "execution_count": 27,
   "metadata": {},
   "outputs": [],
   "source": [
    "movie_matrix = df.pivot_table(index='userId', columns='title', values='rating')"
   ]
  },
  {
   "cell_type": "code",
   "execution_count": 28,
   "metadata": {},
   "outputs": [
    {
     "data": {
      "text/plain": [
       "userId\n",
       "10    2.5\n",
       "15    3.0\n",
       "18    4.0\n",
       "21    4.0\n",
       "22    3.5\n",
       "Name: Avatar (2009), dtype: float64"
      ]
     },
     "execution_count": 28,
     "metadata": {},
     "output_type": "execute_result"
    }
   ],
   "source": [
    "Avatar_user_rating = movie_matrix['Avatar (2009)']\n",
    "Avatar_user_rating = Avatar_user_rating.dropna()\n",
    "Avatar_user_rating.head()"
   ]
  },
  {
   "cell_type": "code",
   "execution_count": 29,
   "metadata": {},
   "outputs": [],
   "source": [
    "similar_to_Avatar=movie_matrix.corrwith(Avatar_user_rating)"
   ]
  },
  {
   "cell_type": "code",
   "execution_count": 30,
   "metadata": {},
   "outputs": [],
   "source": [
    "corr_Avatar = pd.DataFrame(similar_to_Avatar, columns=['correlation'])\n",
    "corr_Avatar.dropna(inplace=True)\n"
   ]
  },
  {
   "cell_type": "code",
   "execution_count": 31,
   "metadata": {},
   "outputs": [
    {
     "data": {
      "text/html": [
       "<div>\n",
       "<style scoped>\n",
       "    .dataframe tbody tr th:only-of-type {\n",
       "        vertical-align: middle;\n",
       "    }\n",
       "\n",
       "    .dataframe tbody tr th {\n",
       "        vertical-align: top;\n",
       "    }\n",
       "\n",
       "    .dataframe thead th {\n",
       "        text-align: right;\n",
       "    }\n",
       "</style>\n",
       "<table border=\"1\" class=\"dataframe\">\n",
       "  <thead>\n",
       "    <tr style=\"text-align: right;\">\n",
       "      <th></th>\n",
       "      <th>correlation</th>\n",
       "      <th>number_of_ratings</th>\n",
       "    </tr>\n",
       "    <tr>\n",
       "      <th>title</th>\n",
       "      <th></th>\n",
       "      <th></th>\n",
       "    </tr>\n",
       "  </thead>\n",
       "  <tbody>\n",
       "    <tr>\n",
       "      <th>'burbs, The (1989)</th>\n",
       "      <td>0.353553</td>\n",
       "      <td>17</td>\n",
       "    </tr>\n",
       "    <tr>\n",
       "      <th>(500) Days of Summer (2009)</th>\n",
       "      <td>0.131120</td>\n",
       "      <td>42</td>\n",
       "    </tr>\n",
       "    <tr>\n",
       "      <th>*batteries not included (1987)</th>\n",
       "      <td>0.785714</td>\n",
       "      <td>7</td>\n",
       "    </tr>\n",
       "    <tr>\n",
       "      <th>10 Things I Hate About You (1999)</th>\n",
       "      <td>0.265637</td>\n",
       "      <td>54</td>\n",
       "    </tr>\n",
       "    <tr>\n",
       "      <th>10,000 BC (2008)</th>\n",
       "      <td>-0.075431</td>\n",
       "      <td>17</td>\n",
       "    </tr>\n",
       "  </tbody>\n",
       "</table>\n",
       "</div>"
      ],
      "text/plain": [
       "                                   correlation  number_of_ratings\n",
       "title                                                            \n",
       "'burbs, The (1989)                    0.353553                 17\n",
       "(500) Days of Summer (2009)           0.131120                 42\n",
       "*batteries not included (1987)        0.785714                  7\n",
       "10 Things I Hate About You (1999)     0.265637                 54\n",
       "10,000 BC (2008)                     -0.075431                 17"
      ]
     },
     "execution_count": 31,
     "metadata": {},
     "output_type": "execute_result"
    }
   ],
   "source": [
    "corr_Avatar = corr_Avatar.join(df_ratings['number_of_ratings'])\n",
    "corr_Avatar.head()"
   ]
  },
  {
   "cell_type": "code",
   "execution_count": 32,
   "metadata": {},
   "outputs": [
    {
     "data": {
      "text/plain": [
       "userId\n",
       "18     3.5\n",
       "62     4.0\n",
       "68     3.5\n",
       "73     5.0\n",
       "106    4.0\n",
       "125    3.0\n",
       "139    2.0\n",
       "177    4.0\n",
       "184    3.0\n",
       "246    4.0\n",
       "249    4.0\n",
       "274    2.0\n",
       "291    4.0\n",
       "292    4.0\n",
       "298    3.5\n",
       "332    3.5\n",
       "339    2.5\n",
       "344    4.0\n",
       "380    5.0\n",
       "414    3.0\n",
       "432    4.0\n",
       "448    2.5\n",
       "475    5.0\n",
       "489    3.0\n",
       "509    3.5\n",
       "525    3.0\n",
       "534    3.5\n",
       "550    4.0\n",
       "561    4.0\n",
       "567    1.5\n",
       "573    4.5\n",
       "596    3.5\n",
       "599    2.5\n",
       "610    3.5\n",
       "Name: Thor (2011), dtype: float64"
      ]
     },
     "execution_count": 32,
     "metadata": {},
     "output_type": "execute_result"
    }
   ],
   "source": [
    "Thor_user_rating = movie_matrix['Thor (2011)']\n",
    "Thor_user_rating = Thor_user_rating.dropna()\n",
    "Thor_user_rating"
   ]
  },
  {
   "cell_type": "code",
   "execution_count": 33,
   "metadata": {},
   "outputs": [
    {
     "data": {
      "text/plain": [
       "title\n",
       "'71 (2014)                                        NaN\n",
       "'Hellboy': The Seeds of Creation (2004)           NaN\n",
       "'Round Midnight (1986)                            NaN\n",
       "'Salem's Lot (2004)                               NaN\n",
       "'Til There Was You (1997)                         NaN\n",
       "                                               ...   \n",
       "eXistenZ (1999)                              0.917663\n",
       "xXx (2002)                                   0.345586\n",
       "xXx: State of the Union (2005)              -0.970725\n",
       "¡Three Amigos! (1986)                        0.914659\n",
       "À nous la liberté (Freedom for Us) (1931)         NaN\n",
       "Length: 8747, dtype: float64"
      ]
     },
     "execution_count": 33,
     "metadata": {},
     "output_type": "execute_result"
    }
   ],
   "source": [
    "similar_to_Thor=movie_matrix.corrwith(Thor_user_rating)\n",
    "similar_to_Thor"
   ]
  },
  {
   "cell_type": "code",
   "execution_count": 34,
   "metadata": {},
   "outputs": [
    {
     "data": {
      "text/html": [
       "<div>\n",
       "<style scoped>\n",
       "    .dataframe tbody tr th:only-of-type {\n",
       "        vertical-align: middle;\n",
       "    }\n",
       "\n",
       "    .dataframe tbody tr th {\n",
       "        vertical-align: top;\n",
       "    }\n",
       "\n",
       "    .dataframe thead th {\n",
       "        text-align: right;\n",
       "    }\n",
       "</style>\n",
       "<table border=\"1\" class=\"dataframe\">\n",
       "  <thead>\n",
       "    <tr style=\"text-align: right;\">\n",
       "      <th></th>\n",
       "      <th>correlation</th>\n",
       "      <th>number_of_ratings</th>\n",
       "    </tr>\n",
       "    <tr>\n",
       "      <th>title</th>\n",
       "      <th></th>\n",
       "      <th></th>\n",
       "    </tr>\n",
       "  </thead>\n",
       "  <tbody>\n",
       "    <tr>\n",
       "      <th>'burbs, The (1989)</th>\n",
       "      <td>0.997176</td>\n",
       "      <td>17</td>\n",
       "    </tr>\n",
       "    <tr>\n",
       "      <th>(500) Days of Summer (2009)</th>\n",
       "      <td>0.386820</td>\n",
       "      <td>42</td>\n",
       "    </tr>\n",
       "    <tr>\n",
       "      <th>10 Things I Hate About You (1999)</th>\n",
       "      <td>0.273560</td>\n",
       "      <td>54</td>\n",
       "    </tr>\n",
       "    <tr>\n",
       "      <th>10,000 BC (2008)</th>\n",
       "      <td>0.245718</td>\n",
       "      <td>17</td>\n",
       "    </tr>\n",
       "    <tr>\n",
       "      <th>101 Dalmatians (1996)</th>\n",
       "      <td>0.089730</td>\n",
       "      <td>47</td>\n",
       "    </tr>\n",
       "  </tbody>\n",
       "</table>\n",
       "</div>"
      ],
      "text/plain": [
       "                                   correlation  number_of_ratings\n",
       "title                                                            \n",
       "'burbs, The (1989)                    0.997176                 17\n",
       "(500) Days of Summer (2009)           0.386820                 42\n",
       "10 Things I Hate About You (1999)     0.273560                 54\n",
       "10,000 BC (2008)                      0.245718                 17\n",
       "101 Dalmatians (1996)                 0.089730                 47"
      ]
     },
     "execution_count": 34,
     "metadata": {},
     "output_type": "execute_result"
    }
   ],
   "source": [
    "corr_Thor = pd.DataFrame(similar_to_Thor, columns=['correlation'])\n",
    "corr_Thor.dropna(inplace=True)\n",
    "corr_Thor = corr_Thor.join(df_ratings['number_of_ratings'])\n",
    "corr_Thor.head()"
   ]
  },
  {
   "cell_type": "code",
   "execution_count": 35,
   "metadata": {},
   "outputs": [
    {
     "name": "stderr",
     "output_type": "stream",
     "text": [
      "/opt/conda/lib/python3.7/site-packages/ipykernel_launcher.py:1: UserWarning: Boolean Series key will be reindexed to match DataFrame index.\n",
      "  \"\"\"Entry point for launching an IPython kernel.\n"
     ]
    },
    {
     "data": {
      "text/html": [
       "<div>\n",
       "<style scoped>\n",
       "    .dataframe tbody tr th:only-of-type {\n",
       "        vertical-align: middle;\n",
       "    }\n",
       "\n",
       "    .dataframe tbody tr th {\n",
       "        vertical-align: top;\n",
       "    }\n",
       "\n",
       "    .dataframe thead th {\n",
       "        text-align: right;\n",
       "    }\n",
       "</style>\n",
       "<table border=\"1\" class=\"dataframe\">\n",
       "  <thead>\n",
       "    <tr style=\"text-align: right;\">\n",
       "      <th></th>\n",
       "      <th>correlation</th>\n",
       "      <th>number_of_ratings</th>\n",
       "    </tr>\n",
       "    <tr>\n",
       "      <th>title</th>\n",
       "      <th></th>\n",
       "      <th></th>\n",
       "    </tr>\n",
       "  </thead>\n",
       "  <tbody>\n",
       "    <tr>\n",
       "      <th>Stargate (1994)</th>\n",
       "      <td>0.759494</td>\n",
       "      <td>140</td>\n",
       "    </tr>\n",
       "    <tr>\n",
       "      <th>Aladdin (1992)</th>\n",
       "      <td>0.730377</td>\n",
       "      <td>183</td>\n",
       "    </tr>\n",
       "    <tr>\n",
       "      <th>Jurassic Park (1993)</th>\n",
       "      <td>0.714481</td>\n",
       "      <td>238</td>\n",
       "    </tr>\n",
       "    <tr>\n",
       "      <th>Lion King, The (1994)</th>\n",
       "      <td>0.710244</td>\n",
       "      <td>172</td>\n",
       "    </tr>\n",
       "    <tr>\n",
       "      <th>Bourne Identity, The (2002)</th>\n",
       "      <td>0.705183</td>\n",
       "      <td>112</td>\n",
       "    </tr>\n",
       "    <tr>\n",
       "      <th>X-Men (2000)</th>\n",
       "      <td>0.670755</td>\n",
       "      <td>133</td>\n",
       "    </tr>\n",
       "    <tr>\n",
       "      <th>Up (2009)</th>\n",
       "      <td>0.665904</td>\n",
       "      <td>105</td>\n",
       "    </tr>\n",
       "    <tr>\n",
       "      <th>Batman Begins (2005)</th>\n",
       "      <td>0.665208</td>\n",
       "      <td>116</td>\n",
       "    </tr>\n",
       "    <tr>\n",
       "      <th>Harry Potter and the Sorcerer's Stone (a.k.a. Harry Potter and the Philosopher's Stone) (2001)</th>\n",
       "      <td>0.658109</td>\n",
       "      <td>107</td>\n",
       "    </tr>\n",
       "    <tr>\n",
       "      <th>Men in Black (a.k.a. MIB) (1997)</th>\n",
       "      <td>0.643894</td>\n",
       "      <td>165</td>\n",
       "    </tr>\n",
       "  </tbody>\n",
       "</table>\n",
       "</div>"
      ],
      "text/plain": [
       "                                                    correlation  \\\n",
       "title                                                             \n",
       "Stargate (1994)                                        0.759494   \n",
       "Aladdin (1992)                                         0.730377   \n",
       "Jurassic Park (1993)                                   0.714481   \n",
       "Lion King, The (1994)                                  0.710244   \n",
       "Bourne Identity, The (2002)                            0.705183   \n",
       "X-Men (2000)                                           0.670755   \n",
       "Up (2009)                                              0.665904   \n",
       "Batman Begins (2005)                                   0.665208   \n",
       "Harry Potter and the Sorcerer's Stone (a.k.a. H...     0.658109   \n",
       "Men in Black (a.k.a. MIB) (1997)                       0.643894   \n",
       "\n",
       "                                                    number_of_ratings  \n",
       "title                                                                  \n",
       "Stargate (1994)                                                   140  \n",
       "Aladdin (1992)                                                    183  \n",
       "Jurassic Park (1993)                                              238  \n",
       "Lion King, The (1994)                                             172  \n",
       "Bourne Identity, The (2002)                                       112  \n",
       "X-Men (2000)                                                      133  \n",
       "Up (2009)                                                         105  \n",
       "Batman Begins (2005)                                              116  \n",
       "Harry Potter and the Sorcerer's Stone (a.k.a. H...                107  \n",
       "Men in Black (a.k.a. MIB) (1997)                                  165  "
      ]
     },
     "execution_count": 35,
     "metadata": {},
     "output_type": "execute_result"
    }
   ],
   "source": [
    "corr_Thor[df_ratings['number_of_ratings'] > 100].sort_values(by='correlation', ascending=False).head(10)"
   ]
  },
  {
   "cell_type": "code",
   "execution_count": null,
   "metadata": {},
   "outputs": [],
   "source": []
  }
 ],
 "metadata": {
  "kernelspec": {
   "display_name": "Python 3",
   "language": "python",
   "name": "python3"
  },
  "language_info": {
   "codemirror_mode": {
    "name": "ipython",
    "version": 3
   },
   "file_extension": ".py",
   "mimetype": "text/x-python",
   "name": "python",
   "nbconvert_exporter": "python",
   "pygments_lexer": "ipython3",
   "version": "3.7.3"
  }
 },
 "nbformat": 4,
 "nbformat_minor": 4
}
